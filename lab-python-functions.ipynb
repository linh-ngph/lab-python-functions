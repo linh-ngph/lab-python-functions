{
 "cells": [
  {
   "cell_type": "markdown",
   "id": "25d7736c-ba17-4aff-b6bb-66eba20fbf4e",
   "metadata": {},
   "source": [
    "# Lab | Functions"
   ]
  },
  {
   "cell_type": "markdown",
   "id": "0c581062-8967-4d93-b06e-62833222f930",
   "metadata": {
    "tags": []
   },
   "source": [
    "## Exercise: Managing Customer Orders with Functions\n",
    "\n",
    "In the previous exercise, you improved the code for managing customer orders by using loops and flow control. Now, let's take it a step further and refactor the code by introducing functions.\n",
    "\n",
    "Follow the steps below to complete the exercise:\n",
    "\n",
    "1. Define a function named `initialize_inventory` that takes `products` as a parameter. Inside the function, implement the code for initializing the inventory dictionary using a loop and user input.\n",
    "\n",
    "2. Define a function named `get_customer_orders` that takes no parameters. Inside the function, implement the code for prompting the user to enter the product names using a loop. The function should return the `customer_orders` set.\n",
    "\n",
    "3. Define a function named `update_inventory` that takes `customer_orders` and `inventory` as parameters. Inside the function, implement the code for updating the inventory dictionary based on the customer orders.\n",
    "\n",
    "4. Define a function named `calculate_order_statistics` that takes `customer_orders` and `products` as parameters. Inside the function, implement the code for calculating the order statistics (total products ordered, and percentage of unique products ordered). The function should return these values.\n",
    "\n",
    "5. Define a function named `print_order_statistics` that takes `order_statistics` as a parameter. Inside the function, implement the code for printing the order statistics.\n",
    "\n",
    "6. Define a function named `print_updated_inventory` that takes `inventory` as a parameter. Inside the function, implement the code for printing the updated inventory.\n",
    "\n",
    "7. Call the functions in the appropriate sequence to execute the program and manage customer orders.\n",
    "\n",
    "Hints for functions:\n",
    "\n",
    "- Consider the input parameters required for each function and their return values.\n",
    "- Utilize function parameters and return values to transfer data between functions.\n",
    "- Test your functions individually to ensure they work correctly.\n",
    "\n",
    "\n"
   ]
  },
  {
   "cell_type": "code",
   "execution_count": 37,
   "id": "46ffa74f-1aa2-4a69-8bb0-28e8164bd5e5",
   "metadata": {},
   "outputs": [
    {
     "name": "stdin",
     "output_type": "stream",
     "text": [
      "How many t-shirt available in the inventory? 10\n",
      "How many mug available in the inventory? 10\n",
      "How many hat available in the inventory? 10\n",
      "How many book available in the inventory? 10\n",
      "How many keychain available in the inventory? 10\n",
      "Our products are: ['t-shirt', 'mug', 'hat', 'book', 'keychain'] \n",
      " Enter the name of product that you want to order:  book mug hat\n"
     ]
    },
    {
     "name": "stdout",
     "output_type": "stream",
     "text": [
      "Total product orderd: 3 \n",
      " Percentage unique products ordered: 60.0%\n",
      "Updated Inventory:\n",
      "t-shirt: 10\n",
      "mug: 9\n",
      "hat: 9\n",
      "book: 9\n",
      "keychain: 10\n"
     ]
    }
   ],
   "source": [
    "products = [\"t-shirt\", \"mug\", \"hat\", \"book\", \"keychain\"]\n",
    "inventory = {}\n",
    "customer_orders = set()\n",
    "def initialize_inventory(products):\n",
    "    for index in range(len(products)):\n",
    "        quantity = int(input(f\"How many {products[index]} available in the inventory?\"))\n",
    "        inventory[products[index]] = quantity\n",
    "\n",
    "def get_customer_order():\n",
    "    to_order = input(f\"Our products are: {products} \\n Enter the name of product that you want to order: \").strip().lower()\n",
    "    item_to_order = [item.strip() for item in to_order.replace(\",\" , \" \").split()]\n",
    "    for item in item_to_order:\n",
    "        customer_orders.add(item)\n",
    "    return customer_orders\n",
    "\n",
    "def update_inventory(customer_orders, inventory):\n",
    "    for item in customer_orders:\n",
    "        if item in inventory:\n",
    "            inventory[item] -=1\n",
    "\n",
    "def calculate_order_statistics(customer_orders, products):\n",
    "    total_products_ordered = len(customer_orders)\n",
    "    total_products = len(products)\n",
    "    percentage_unique = (total_products_ordered / total_products) * 100\n",
    "    return total_products_ordered, percentage_unique\n",
    "\n",
    "\n",
    "def print_order_statistics(order_statistics):\n",
    "    total_products_ordered, percentage_unique = order_statistics\n",
    "    print(f\"Total product orderd: {total_products_ordered} \\n Percentage unique products ordered: {percentage_unique}%\")\n",
    "\n",
    "def print_updated_inventory(inventory):\n",
    "    print(\"Updated Inventory:\")\n",
    "    for item, quantity in inventory.items():\n",
    "        print(f\"{item}: {quantity}\")\n",
    "    \n",
    "initialize_inventory(products)\n",
    "get_customer_order()\n",
    "\n",
    "update_inventory(customer_orders, inventory)\n",
    "order_statistics = calculate_order_statistics(customer_orders, products)\n",
    "\n",
    "print_order_statistics(order_statistics)\n",
    "print_updated_inventory(inventory)\n",
    "\n"
   ]
  },
  {
   "cell_type": "code",
   "execution_count": null,
   "id": "4a902f7b-1f6c-4312-9a98-75c3ae114939",
   "metadata": {},
   "outputs": [],
   "source": []
  }
 ],
 "metadata": {
  "kernelspec": {
   "display_name": "Python 3 (ipykernel)",
   "language": "python",
   "name": "python3"
  },
  "language_info": {
   "codemirror_mode": {
    "name": "ipython",
    "version": 3
   },
   "file_extension": ".py",
   "mimetype": "text/x-python",
   "name": "python",
   "nbconvert_exporter": "python",
   "pygments_lexer": "ipython3",
   "version": "3.12.4"
  }
 },
 "nbformat": 4,
 "nbformat_minor": 5
}
